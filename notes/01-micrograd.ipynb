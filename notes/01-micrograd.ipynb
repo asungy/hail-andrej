{
 "cells": [
  {
   "cell_type": "markdown",
   "id": "e7235a42-49b0-432f-a94b-3fa155b86e4a",
   "metadata": {},
   "source": [
    "# Building Micrograd\n",
    "\n",
    "**Link**: https://www.youtube.com/watch?v=VMj-3S1tku0"
   ]
  },
  {
   "cell_type": "code",
   "execution_count": 6,
   "id": "e8d8ea47-2665-4cce-9dd7-7ae9a504bbf5",
   "metadata": {},
   "outputs": [],
   "source": [
    "import math\n",
    "import numpy as np\n",
    "import matplotlib.pyplot as plt\n",
    "import json\n",
    "from enum import Enum\n",
    "from graphviz import Digraph\n",
    "from collections import deque\n",
    "%matplotlib inline"
   ]
  },
  {
   "cell_type": "markdown",
   "id": "8fa5d7c8-97ed-431b-bb3c-dfd2c5e90c70",
   "metadata": {},
   "source": [
    "# Derivatives"
   ]
  },
  {
   "cell_type": "markdown",
   "id": "263ddc77-70b3-4d2e-9161-f556594cc234",
   "metadata": {},
   "source": [
    "## Simple example\n",
    "Consider the following function:\n",
    "$$f(x) = 3x^2 - 4x + 5$$\n",
    "\n",
    "We can plot it like so:"
   ]
  },
  {
   "cell_type": "code",
   "execution_count": 2,
   "id": "e85a8a99-f6f7-4aa8-8b13-c3cf36fdd2b9",
   "metadata": {},
   "outputs": [
    {
     "data": {
      "text/plain": [
       "[<matplotlib.lines.Line2D at 0x7fffbd5d1cd0>]"
      ]
     },
     "execution_count": 2,
     "metadata": {},
     "output_type": "execute_result"
    },
    {
     "data": {
      "image/png": "[encoded data removed]",
      "text/plain": [
       "<Figure size 640x480 with 1 Axes>"
      ]
     },
     "metadata": {},
     "output_type": "display_data"
    }
   ],
   "source": [
    "def f(x):\n",
    "    return 3*x**2 - 4*x + 5\n",
    "\n",
    "xs = np.arange(-5, 5, 0.25)\n",
    "ys = f(xs)\n",
    "plt.plot(xs, ys)"
   ]
  },
  {
   "cell_type": "markdown",
   "id": "4a9e1064-c379-4024-8c0d-6b391cf22790",
   "metadata": {},
   "source": [
    "Recall the definition of the derivative:\n",
    "$$f'(x) = \\lim_{h \\to 0} \\frac{f(x+h)-f(x)}{h}$$\n",
    "\n",
    "So if we wanted to find the (approximate) derivative at any point along the function, we could just use the definition of the derivative like so:"
   ]
  },
  {
   "cell_type": "code",
   "execution_count": 3,
   "id": "1ae21738-5dc3-4386-94e9-269932325d70",
   "metadata": {},
   "outputs": [
    {
     "data": {
      "text/plain": [
       "14.000003002223593"
      ]
     },
     "execution_count": 3,
     "metadata": {},
     "output_type": "execute_result"
    }
   ],
   "source": [
    "h = 0.000001 # Small h value as a substitute for h -> 0\n",
    "x = 3.0\n",
    "(f(x + h) - f(x)) / h"
   ]
  },
  {
   "cell_type": "markdown",
   "id": "c1a805d1-02e2-4771-b303-4630e6c314b4",
   "metadata": {},
   "source": [
    "Again, this is an approximation, but we can check our work by taking the finding the derivative of `f` and plugging in `x` like we would have done in our high school calculus classes:\n",
    "\n",
    "$$\n",
    "\\begin{aligned}\n",
    "f(x) &= 3x^2 - 4x + 5 \\hspace{15cm} \\\\\n",
    "f'(x) &= 6x - 4 \\\\\n",
    "f'(3.0) &= 6(3.0) - 4 \\\\\n",
    "f'(3.0) &= 14.0\n",
    "\\end{aligned}\n",
    "$$"
   ]
  },
  {
   "cell_type": "markdown",
   "id": "83a25840-1657-4e27-be57-59cb222323cd",
   "metadata": {},
   "source": [
    "## Partial derivatives\n",
    "Now let's consider the following equation:\n",
    "$$\n",
    "\\begin{aligned}\n",
    "y &= ab + c, \\text{ where } \\hspace{15cm} \\\\\n",
    "a&=2.0, b=-3.0,c=10.0\n",
    "\\end{aligned}\n",
    "$$\n",
    "\n",
    "We want to know how $y$ changes with any change to the variables $a$, $b$, and $c$.\n",
    "\n",
    "Let's start with $a$:"
   ]
  },
  {
   "cell_type": "code",
   "execution_count": null,
   "id": "70bf98b0-ac0e-4977-9b68-6c7d5f07d083",
   "metadata": {},
   "outputs": [],
   "source": []
  },
  {
   "cell_type": "code",
   "execution_count": 4,
   "id": "06b20004-d7f5-4f22-a1b8-166115088926",
   "metadata": {},
   "outputs": [
    {
     "name": "stdout",
     "output_type": "stream",
     "text": [
      "Slope of a: -3.000000000419334\n"
     ]
    }
   ],
   "source": [
    "a, b, c = 2.0, -3.0, 10.0\n",
    "y = a * b + c\n",
    "# Let's nudge a by a small amount h and see how that changes the output.\n",
    "h = 0.000001\n",
    "y_a = (a + h) * b + c\n",
    "print(f\"Slope of a: {(y_a - y)/h}\")"
   ]
  },
  {
   "cell_type": "markdown",
   "id": "8499abe2-ec25-4f3f-932e-60fe06bfb3b9",
   "metadata": {},
   "source": [
    "So this is saying: if we increase the $a$, then $y_1$ will _decrease_ by a factor of $3$.\n",
    "\n",
    "Let's continue for $b$ and $c$:"
   ]
  },
  {
   "cell_type": "code",
   "execution_count": 5,
   "id": "fbccceb6-4b8b-4092-93c6-0318f5822477",
   "metadata": {},
   "outputs": [
    {
     "name": "stdout",
     "output_type": "stream",
     "text": [
      "Slope of b: 2.000000000279556\n",
      "Slope of c: 0.9999999992515995\n"
     ]
    }
   ],
   "source": [
    "y_b = a * (b + h) + c\n",
    "print(f\"Slope of b: {(y_b - y)/h}\")\n",
    "y_c = a * b + (c + h)\n",
    "print(f\"Slope of c: {(y_c - y)/h}\")"
   ]
  },
  {
   "cell_type": "markdown",
   "id": "300f5395-731f-4d7e-aeb1-d89fc6e7e360",
   "metadata": {},
   "source": [
    "## Implementing the `Value` class"
   ]
  },
  {
   "cell_type": "markdown",
   "id": "f42458ec-9f83-4a59-894c-6d025a59fd93",
   "metadata": {},
   "source": [
    "We want to implement our own concept of a \"value\" in a neural network so that we have control over how it operates. Let's start simple and have this class just store a value and be able to print a string representation of this value:"
   ]
  },
  {
   "cell_type": "code",
   "execution_count": 6,
   "id": "f7838b4e-0d0c-484d-8810-9f544fa8de73",
   "metadata": {},
   "outputs": [],
   "source": [
    "class Value:\n",
    "    def __init__(self, value):\n",
    "        self.value = value\n",
    "\n",
    "    def __repr__(self):\n",
    "        s = json.dumps({\n",
    "            \"value\": self.value   \n",
    "        }, indent=2)\n",
    "        return f\"Value: {s}\""
   ]
  },
  {
   "cell_type": "code",
   "execution_count": 7,
   "id": "96614958-75bd-4bac-973a-de7bd9b618fe",
   "metadata": {},
   "outputs": [
    {
     "name": "stdout",
     "output_type": "stream",
     "text": [
      "Value: {\n",
      "  \"value\": 3.14\n",
      "}\n"
     ]
    }
   ],
   "source": [
    "a = Value(3.14)\n",
    "print(a)"
   ]
  },
  {
   "cell_type": "markdown",
   "id": "51e0d5ba-928f-484c-85cc-d9d55dfb6524",
   "metadata": {},
   "source": [
    "We want to be able to perform operations on our `Value` class. Let's implement the addition, subtraction, multiplication, and division magic methods for this class:"
   ]
  },
  {
   "cell_type": "code",
   "execution_count": 8,
   "id": "b7b4e8fe-6125-4855-9f0b-dc20fb69b497",
   "metadata": {},
   "outputs": [],
   "source": [
    "class Value:\n",
    "    def __init__(self, value):\n",
    "        self.value = value\n",
    "\n",
    "    def __add__(self, other):\n",
    "        return Value(self.value + other.value)\n",
    "\n",
    "    def __sub__(self, other):\n",
    "        return Value(self.value - other.value)\n",
    "\n",
    "    def __mul__(self, other):\n",
    "        return Value(self.value * other.value)\n",
    "\n",
    "    def __truediv__(self, other):\n",
    "        return Value(self.value / other.value)\n",
    "    \n",
    "    def __repr__(self):\n",
    "        s = json.dumps({\n",
    "            \"value\": self.value   \n",
    "        }, indent=2)\n",
    "        return f\"Value: {s}\""
   ]
  },
  {
   "cell_type": "code",
   "execution_count": 9,
   "id": "e9a808e1-794c-4ab5-aea8-df43b27bf239",
   "metadata": {},
   "outputs": [
    {
     "name": "stdout",
     "output_type": "stream",
     "text": [
      "Value: {\n",
      "  \"value\": 9.5\n",
      "}\n",
      "Value: {\n",
      "  \"value\": -4.5\n",
      "}\n",
      "Value: {\n",
      "  \"value\": 17.5\n",
      "}\n",
      "Value: {\n",
      "  \"value\": 0.35714285714285715\n",
      "}\n"
     ]
    }
   ],
   "source": [
    "a = Value(2.5)\n",
    "b = Value(7.0)\n",
    "print(a + b)\n",
    "print(a - b)\n",
    "print(a * b)\n",
    "print(a / b)"
   ]
  },
  {
   "cell_type": "markdown",
   "id": "be985459-6ffe-4691-b7b9-e652d7272102",
   "metadata": {},
   "source": [
    "> In this notebook, we're going to introduce a concept that will probably be used in the rest of these notes called AAMO (Accept And Move On). It's an amazing learning tool that will save you many hours and much heartache (take it from my experience)."
   ]
  },
  {
   "cell_type": "markdown",
   "id": "020ef58c-006b-4a78-b317-3aec491e7e43",
   "metadata": {},
   "source": [
    "## Children and Operator member variables (AAMO)\n",
    "\n",
    "We now need our `Value` class to maintain some kind of \"memory\" of how it was created. Firstly, we need to know what values were involved in creating any given value as well as the operation. If you are familiar in with the concept of backpropagation, you may see why this is necessary. If not, that's okay.\n",
    "\n",
    "Let's say I have the following equation:\n",
    "$$ 1 + 2 = 3 $$\n",
    "\n",
    "This can be modeled with our `Value` class like so:\n",
    "```python\n",
    "Value(1) + Value(2) => Value(3)\n",
    "```\n",
    "\n",
    "Let's say we take our `Value(3)` and do whatever we like. But let's consider that sometime later we want to refer back to `Value(1)` and `Value(2)` and recall that these `Value` objects were added to create `Value(3)`. A solution to this problem might look like this:"
   ]
  },
  {
   "cell_type": "code",
   "execution_count": 37,
   "id": "766cc475-fb07-4acc-b3ee-a39a2a1405f0",
   "metadata": {},
   "outputs": [],
   "source": [
    "class Op(Enum):\n",
    "    NONE = 0\n",
    "    ADD = 1\n",
    "    SUB = 2\n",
    "    MUL = 3\n",
    "    DIV = 4\n",
    "\n",
    "    def __str__(self):\n",
    "        match self:\n",
    "            case Op.NONE:\n",
    "                return \"none\"\n",
    "            case Op.ADD:\n",
    "                return \"addition\"\n",
    "            case Op.SUB:\n",
    "                return \"subtraction\"\n",
    "            case Op.MUL:\n",
    "                return \"multiplication\"\n",
    "            case Op.DIV:\n",
    "                return \"division\"\n",
    "            case _:\n",
    "                raise ValueError(\"Unknown operation\")\n",
    "    def opstr(self):\n",
    "        match self:\n",
    "            case Op.NONE:\n",
    "                return \"\"\n",
    "            case Op.ADD:\n",
    "                return \"+\"\n",
    "            case Op.SUB:\n",
    "                return \"-\"\n",
    "            case Op.MUL:\n",
    "                return \"*\"\n",
    "            case Op.DIV:\n",
    "                return \"/\"\n",
    "            case _:\n",
    "                raise ValueError(\"Unknown operation\")    \n",
    "\n",
    "class Value:\n",
    "    def __init__(self, value, children=set(), operation=Op.NONE):\n",
    "        self.value = value\n",
    "        self.children = children\n",
    "        self.operation = operation\n",
    "\n",
    "    def __add__(self, other):\n",
    "        return Value(\n",
    "            value=self.value + other.value,\n",
    "            children={self, other},\n",
    "            operation=Op.ADD,\n",
    "        )\n",
    "\n",
    "    def __sub__(self, other):        \n",
    "        return Value(\n",
    "            value=self.value - other.value,\n",
    "            children={self, other},\n",
    "            operation=Op.SUB,\n",
    "        )\n",
    "\n",
    "    def __mul__(self, other):\n",
    "        return Value(\n",
    "            value=self.value * other.value,\n",
    "            children={self, other},\n",
    "            operation=Op.MUL,\n",
    "        )\n",
    "\n",
    "    def __truediv__(self, other):\n",
    "        return Value(\n",
    "            value=self.value / other.value,\n",
    "            children={self, other},\n",
    "            operation=Op.DIV,\n",
    "        )\n",
    "\n",
    "    def __str__(self):        \n",
    "        s = json.dumps({\n",
    "            \"value\": self.value,\n",
    "            \"children\": [json.loads(str(v)) for v in self.children],\n",
    "            \"operation\": str(self.operation),\n",
    "        }, indent=2)\n",
    "        return s\n",
    "    \n",
    "    def __repr__(self):\n",
    "        return str(self)\n",
    "\n",
    "    def render_graph(self):\n",
    "        digraph = Digraph(format=\"svg\", graph_attr={\"rankdir\": \"LR\"})\n",
    "        queue = deque([self])\n",
    "        while queue:\n",
    "            current = queue.popleft()\n",
    "            current_id = str(id(current))\n",
    "            digraph.node(\n",
    "                name=current_id,\n",
    "                label=f\"value: {current.value}\",\n",
    "                shape=\"record\",\n",
    "            )\n",
    "            if current.operation != Op.NONE:\n",
    "                op_id = current_id + str(current.operation)\n",
    "                digraph.node(\n",
    "                    name=op_id,\n",
    "                    label=current.operation.opstr(),\n",
    "                )\n",
    "                digraph.edge(op_id, current_id)\n",
    "                for child in current.children:\n",
    "                    digraph.edge(str(id(child)), op_id)\n",
    "                    queue.append(child)\n",
    "        return digraph"
   ]
  },
  {
   "cell_type": "code",
   "execution_count": 39,
   "id": "33d1857b-5319-4d24-b8be-7a41ef85afdd",
   "metadata": {},
   "outputs": [
    {
     "data": {
      "image/svg+xml": [
       "<?xml version=\"1.0\" encoding=\"UTF-8\" standalone=\"no\"?>\n",
       "<!DOCTYPE svg PUBLIC \"-//W3C//DTD SVG 1.1//EN\"\n",
       " \"http://www.w3.org/Graphics/SVG/1.1/DTD/svg11.dtd\">\n",
       "<!-- Generated by graphviz version 10.0.1 (0)\n",
       " -->\n",
       "<!-- Pages: 1 -->\n",
       "<svg width=\"531pt\" height=\"127pt\"\n",
       " viewBox=\"0.00 0.00 530.75 127.00\" xmlns=\"http://www.w3.org/2000/svg\" xmlns:xlink=\"http://www.w3.org/1999/xlink\">\n",
       "<g id=\"graph0\" class=\"graph\" transform=\"scale(1 1) rotate(0) translate(4 123)\">\n",
       "<polygon fill=\"white\" stroke=\"none\" points=\"-4,4 -4,-123 526.75,-123 526.75,4 -4,4\"/>\n",
       "<!-- 140736362314640 -->\n",
       "<g id=\"node1\" class=\"node\">\n",
       "<title>140736362314640</title>\n",
       "<polygon fill=\"none\" stroke=\"black\" points=\"437,-54.5 437,-90.5 522.75,-90.5 522.75,-54.5 437,-54.5\"/>\n",
       "<text text-anchor=\"middle\" x=\"479.88\" y=\"-68.2\" font-family=\"Times,serif\" font-size=\"14.00\">value: 4.0</text>\n",
       "</g>\n",
       "<!-- 140736362314640addition -->\n",
       "<g id=\"node2\" class=\"node\">\n",
       "<title>140736362314640addition</title>\n",
       "<ellipse fill=\"none\" stroke=\"black\" cx=\"374\" cy=\"-72.5\" rx=\"27\" ry=\"18\"/>\n",
       "<text text-anchor=\"middle\" x=\"374\" y=\"-67.83\" font-family=\"Times,serif\" font-size=\"14.00\">+</text>\n",
       "</g>\n",
       "<!-- 140736362314640addition&#45;&gt;140736362314640 -->\n",
       "<g id=\"edge1\" class=\"edge\">\n",
       "<title>140736362314640addition&#45;&gt;140736362314640</title>\n",
       "<path fill=\"none\" stroke=\"black\" d=\"M401.48,-72.5C408.84,-72.5 417.1,-72.5 425.41,-72.5\"/>\n",
       "<polygon fill=\"black\" stroke=\"black\" points=\"425.19,-76 435.19,-72.5 425.19,-69 425.19,-76\"/>\n",
       "</g>\n",
       "<!-- 140736358249744 -->\n",
       "<g id=\"node3\" class=\"node\">\n",
       "<title>140736358249744</title>\n",
       "<polygon fill=\"none\" stroke=\"black\" points=\"216.25,-82.5 216.25,-118.5 311,-118.5 311,-82.5 216.25,-82.5\"/>\n",
       "<text text-anchor=\"middle\" x=\"263.62\" y=\"-96.2\" font-family=\"Times,serif\" font-size=\"14.00\">value: 10.0</text>\n",
       "</g>\n",
       "<!-- 140736358249744&#45;&gt;140736362314640addition -->\n",
       "<g id=\"edge2\" class=\"edge\">\n",
       "<title>140736358249744&#45;&gt;140736362314640addition</title>\n",
       "<path fill=\"none\" stroke=\"black\" d=\"M311.21,-88.46C319.97,-86.2 329,-83.87 337.35,-81.71\"/>\n",
       "<polygon fill=\"black\" stroke=\"black\" points=\"337.98,-85.16 346.78,-79.27 336.22,-78.39 337.98,-85.16\"/>\n",
       "</g>\n",
       "<!-- 140733775358224 -->\n",
       "<g id=\"node4\" class=\"node\">\n",
       "<title>140733775358224</title>\n",
       "<polygon fill=\"none\" stroke=\"black\" points=\"218.5,-27.5 218.5,-63.5 308.75,-63.5 308.75,-27.5 218.5,-27.5\"/>\n",
       "<text text-anchor=\"middle\" x=\"263.62\" y=\"-41.2\" font-family=\"Times,serif\" font-size=\"14.00\">value: &#45;6.0</text>\n",
       "</g>\n",
       "<!-- 140733775358224&#45;&gt;140736362314640addition -->\n",
       "<g id=\"edge3\" class=\"edge\">\n",
       "<title>140733775358224&#45;&gt;140736362314640addition</title>\n",
       "<path fill=\"none\" stroke=\"black\" d=\"M309.02,-56.56C318.47,-58.91 328.34,-61.37 337.41,-63.63\"/>\n",
       "<polygon fill=\"black\" stroke=\"black\" points=\"336.37,-66.98 346.92,-66 338.06,-60.19 336.37,-66.98\"/>\n",
       "</g>\n",
       "<!-- 140733775358224multiplication -->\n",
       "<g id=\"node5\" class=\"node\">\n",
       "<title>140733775358224multiplication</title>\n",
       "<ellipse fill=\"none\" stroke=\"black\" cx=\"153.25\" cy=\"-45.5\" rx=\"27\" ry=\"18\"/>\n",
       "<text text-anchor=\"middle\" x=\"153.25\" y=\"-40.83\" font-family=\"Times,serif\" font-size=\"14.00\">*</text>\n",
       "</g>\n",
       "<!-- 140733775358224multiplication&#45;&gt;140733775358224 -->\n",
       "<g id=\"edge4\" class=\"edge\">\n",
       "<title>140733775358224multiplication&#45;&gt;140733775358224</title>\n",
       "<path fill=\"none\" stroke=\"black\" d=\"M180.48,-45.5C188.41,-45.5 197.44,-45.5 206.54,-45.5\"/>\n",
       "<polygon fill=\"black\" stroke=\"black\" points=\"206.51,-49 216.51,-45.5 206.51,-42 206.51,-49\"/>\n",
       "</g>\n",
       "<!-- 140734034830224 -->\n",
       "<g id=\"node6\" class=\"node\">\n",
       "<title>140734034830224</title>\n",
       "<polygon fill=\"none\" stroke=\"black\" points=\"2.25,-55.5 2.25,-91.5 88,-91.5 88,-55.5 2.25,-55.5\"/>\n",
       "<text text-anchor=\"middle\" x=\"45.12\" y=\"-69.2\" font-family=\"Times,serif\" font-size=\"14.00\">value: 2.0</text>\n",
       "</g>\n",
       "<!-- 140734034830224&#45;&gt;140733775358224multiplication -->\n",
       "<g id=\"edge5\" class=\"edge\">\n",
       "<title>140734034830224&#45;&gt;140733775358224multiplication</title>\n",
       "<path fill=\"none\" stroke=\"black\" d=\"M88.37,-62.35C97.72,-59.89 107.54,-57.3 116.59,-54.91\"/>\n",
       "<polygon fill=\"black\" stroke=\"black\" points=\"117.32,-58.34 126.1,-52.4 115.54,-51.57 117.32,-58.34\"/>\n",
       "</g>\n",
       "<!-- 140736362307792 -->\n",
       "<g id=\"node7\" class=\"node\">\n",
       "<title>140736362307792</title>\n",
       "<polygon fill=\"none\" stroke=\"black\" points=\"0,-0.5 0,-36.5 90.25,-36.5 90.25,-0.5 0,-0.5\"/>\n",
       "<text text-anchor=\"middle\" x=\"45.12\" y=\"-14.2\" font-family=\"Times,serif\" font-size=\"14.00\">value: &#45;3.0</text>\n",
       "</g>\n",
       "<!-- 140736362307792&#45;&gt;140733775358224multiplication -->\n",
       "<g id=\"edge6\" class=\"edge\">\n",
       "<title>140736362307792&#45;&gt;140733775358224multiplication</title>\n",
       "<path fill=\"none\" stroke=\"black\" d=\"M90.52,-29.79C99.19,-32 108.17,-34.29 116.52,-36.41\"/>\n",
       "<polygon fill=\"black\" stroke=\"black\" points=\"115.39,-39.73 125.94,-38.81 117.11,-32.95 115.39,-39.73\"/>\n",
       "</g>\n",
       "</g>\n",
       "</svg>\n"
      ],
      "text/plain": [
       "<graphviz.graphs.Digraph at 0x7fff32276750>"
      ]
     },
     "execution_count": 39,
     "metadata": {},
     "output_type": "execute_result"
    }
   ],
   "source": [
    "a = Value(2.0)\n",
    "b = Value(-3.0)\n",
    "c = Value(10.0)\n",
    "(a*b+c).render_graph()"
   ]
  },
  {
   "cell_type": "markdown",
   "id": "01861417-8c71-4cef-81b1-e0ef29382d26",
   "metadata": {},
   "source": [
    "Left off: https://youtu.be/VMj-3S1tku0?si=CtX3FRI6Ag2HpvYe&t=1553"
   ]
  }
 ],
 "metadata": {
  "kernelspec": {
   "display_name": "Python 3 (ipykernel)",
   "language": "python",
   "name": "python3"
  },
  "language_info": {
   "codemirror_mode": {
    "name": "ipython",
    "version": 3
   },
   "file_extension": ".py",
   "mimetype": "text/x-python",
   "name": "python",
   "nbconvert_exporter": "python",
   "pygments_lexer": "ipython3",
   "version": "3.11.9"
  }
 },
 "nbformat": 4,
 "nbformat_minor": 5
}
