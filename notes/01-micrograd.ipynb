{
 "cells": [
  {
   "cell_type": "markdown",
   "id": "e7235a42-49b0-432f-a94b-3fa155b86e4a",
   "metadata": {},
   "source": [
    "# Building Micrograd\n",
    "\n",
    "Link: "
   ]
  }
 ],
 "metadata": {
  "kernelspec": {
   "display_name": "Python 3 (ipykernel)",
   "language": "python",
   "name": "python3"
  },
  "language_info": {
   "codemirror_mode": {
    "name": "ipython",
    "version": 3
   },
   "file_extension": ".py",
   "mimetype": "text/x-python",
   "name": "python",
   "nbconvert_exporter": "python",
   "pygments_lexer": "ipython3",
   "version": "3.11.9"
  }
 },
 "nbformat": 4,
 "nbformat_minor": 5
}
